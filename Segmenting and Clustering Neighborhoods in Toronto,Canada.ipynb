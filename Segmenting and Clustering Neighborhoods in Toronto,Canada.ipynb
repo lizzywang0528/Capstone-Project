!pip install bs4
from bs4 import BeautifulSoup # this module helps in web scrapping.
import requests  # this module helps us to download a web page
import numpy as np # library to handle data in a vectorized manner

import pandas as pd # library for data analsysis
pd.set_option('display.max_columns', None)
pd.set_option('display.max_rows', None)
print('Libraries imported.')
url = "https://en.wikipedia.org/w/index.php?title=List_of_postal_codes_of_Canada:_M&direction=prev&oldid=1012023397"
# get the contents of the webpage in text format and store in a variable called data
data  = requests.get(url).text
soup = BeautifulSoup(data,"html5lib")
#find all html tables in the web page
table_contents=[]
table=soup.find('table')
df = pd.DataFrame(columns=['PostalCode','Borough','Neighborhood'])

for row in table.tbody.find_all("tr"):
    col=row.find_all('td')
    if col!=[]:
            postalcode = col[0].text[:3]
            borough = col[1].text.replace('\n', '')
            neighborhood = col[2].text.replace('\n', '')
            df = df.append({'PostalCode':postalcode,'Borough':borough,'Neighborhood':neighborhood}, ignore_index=True)
df = df.drop(df[(df.Borough.isin([ 'Not assigned']))|(df.Neighborhood.isin([ 'Not assigned']))].index)
df
